{
 "cells": [
  {
   "cell_type": "markdown",
   "id": "extensive-generic",
   "metadata": {},
   "source": [
    "***Calvin Forinash - Raw Data and Analysis***"
   ]
  },
  {
   "cell_type": "code",
   "execution_count": 7,
   "id": "ceramic-martial",
   "metadata": {},
   "outputs": [
    {
     "data": {
      "text/html": [
       "<div>\n",
       "<style scoped>\n",
       "    .dataframe tbody tr th:only-of-type {\n",
       "        vertical-align: middle;\n",
       "    }\n",
       "\n",
       "    .dataframe tbody tr th {\n",
       "        vertical-align: top;\n",
       "    }\n",
       "\n",
       "    .dataframe thead th {\n",
       "        text-align: right;\n",
       "    }\n",
       "</style>\n",
       "<table border=\"1\" class=\"dataframe\">\n",
       "  <thead>\n",
       "    <tr style=\"text-align: right;\">\n",
       "      <th></th>\n",
       "      <th>PK</th>\n",
       "      <th>CCR</th>\n",
       "      <th>HIERARCHY</th>\n",
       "      <th>INCIDENTTIME</th>\n",
       "      <th>INCIDENTLOCATION</th>\n",
       "      <th>CLEAREDFLAG</th>\n",
       "      <th>INCIDENTNEIGHBORHOOD</th>\n",
       "      <th>INCIDENTZONE</th>\n",
       "      <th>INCIDENTHIERARCHYDESC</th>\n",
       "      <th>OFFENSES</th>\n",
       "      <th>INCIDENTTRACT</th>\n",
       "      <th>COUNCIL_DISTRICT</th>\n",
       "      <th>PUBLIC_WORKS_DIVISION</th>\n",
       "      <th>X</th>\n",
       "      <th>Y</th>\n",
       "    </tr>\n",
       "  </thead>\n",
       "  <tbody>\n",
       "    <tr>\n",
       "      <th>0</th>\n",
       "      <td>2802309</td>\n",
       "      <td>16000001.0</td>\n",
       "      <td>10</td>\n",
       "      <td>2016-01-01T00:00:00</td>\n",
       "      <td>400 Block North Shore DR Pittsburgh, PA 15212</td>\n",
       "      <td>Y</td>\n",
       "      <td>North Shore</td>\n",
       "      <td>1</td>\n",
       "      <td>HARRASSMENT/THREAT/ATTEMPT/PHY</td>\n",
       "      <td>2702 Aggravated Assault. / 2709(a) Harassment....</td>\n",
       "      <td>2205.0</td>\n",
       "      <td>1.0</td>\n",
       "      <td>6.0</td>\n",
       "      <td>-80.012337</td>\n",
       "      <td>40.446263</td>\n",
       "    </tr>\n",
       "    <tr>\n",
       "      <th>1</th>\n",
       "      <td>2803174</td>\n",
       "      <td>16004547.0</td>\n",
       "      <td>11</td>\n",
       "      <td>2016-01-01T00:01:00</td>\n",
       "      <td>5400 Block Carnegie ST Pittsburgh, PA 15201</td>\n",
       "      <td>N</td>\n",
       "      <td>Upper Lawrenceville</td>\n",
       "      <td>2</td>\n",
       "      <td>THEFT BY DECEPTION</td>\n",
       "      <td>3922 Theft by Deception.</td>\n",
       "      <td>1011.0</td>\n",
       "      <td>7.0</td>\n",
       "      <td>2.0</td>\n",
       "      <td>-79.950295</td>\n",
       "      <td>40.482290</td>\n",
       "    </tr>\n",
       "    <tr>\n",
       "      <th>2</th>\n",
       "      <td>2801809</td>\n",
       "      <td>16000367.0</td>\n",
       "      <td>4</td>\n",
       "      <td>2016-01-01T00:10:00</td>\n",
       "      <td>500 Block Mt Pleasant RD Pittsburgh, PA 15214</td>\n",
       "      <td>N</td>\n",
       "      <td>Northview Heights</td>\n",
       "      <td>1</td>\n",
       "      <td>DISCHARGE OF FIREARM INTO OCC.STRUCTURE</td>\n",
       "      <td>2707.1 Discharge of a Firearm into Occupied St...</td>\n",
       "      <td>2609.0</td>\n",
       "      <td>1.0</td>\n",
       "      <td>1.0</td>\n",
       "      <td>-80.000966</td>\n",
       "      <td>40.478651</td>\n",
       "    </tr>\n",
       "    <tr>\n",
       "      <th>3</th>\n",
       "      <td>2802315</td>\n",
       "      <td>16000035.0</td>\n",
       "      <td>10</td>\n",
       "      <td>2016-01-01T00:15:00</td>\n",
       "      <td>300 Block Wood ST Pittsburgh, PA 15222</td>\n",
       "      <td>Y</td>\n",
       "      <td>Golden Triangle/Civic Arena</td>\n",
       "      <td>2</td>\n",
       "      <td>HARRASSMENT/THREAT/ATTEMPT/PHY</td>\n",
       "      <td>2709(a)(3) Harassment No Legitimate Purpose</td>\n",
       "      <td>201.0</td>\n",
       "      <td>6.0</td>\n",
       "      <td>6.0</td>\n",
       "      <td>-80.001251</td>\n",
       "      <td>40.438918</td>\n",
       "    </tr>\n",
       "    <tr>\n",
       "      <th>4</th>\n",
       "      <td>2802312</td>\n",
       "      <td>16000024.0</td>\n",
       "      <td>4</td>\n",
       "      <td>2016-01-01T00:16:00</td>\n",
       "      <td>500 Block Mt Pleasant RD Pittsburgh, PA 15214</td>\n",
       "      <td>N</td>\n",
       "      <td>Northview Heights</td>\n",
       "      <td>1</td>\n",
       "      <td>PROP MISSILE INTO OCC VEHICLE/OR ROADWAY</td>\n",
       "      <td>2705 Recklessy Endangering Another Person. / 3...</td>\n",
       "      <td>2609.0</td>\n",
       "      <td>1.0</td>\n",
       "      <td>1.0</td>\n",
       "      <td>-80.000966</td>\n",
       "      <td>40.478651</td>\n",
       "    </tr>\n",
       "  </tbody>\n",
       "</table>\n",
       "</div>"
      ],
      "text/plain": [
       "        PK         CCR  HIERARCHY         INCIDENTTIME  \\\n",
       "0  2802309  16000001.0         10  2016-01-01T00:00:00   \n",
       "1  2803174  16004547.0         11  2016-01-01T00:01:00   \n",
       "2  2801809  16000367.0          4  2016-01-01T00:10:00   \n",
       "3  2802315  16000035.0         10  2016-01-01T00:15:00   \n",
       "4  2802312  16000024.0          4  2016-01-01T00:16:00   \n",
       "\n",
       "                                INCIDENTLOCATION CLEAREDFLAG  \\\n",
       "0  400 Block North Shore DR Pittsburgh, PA 15212           Y   \n",
       "1    5400 Block Carnegie ST Pittsburgh, PA 15201           N   \n",
       "2  500 Block Mt Pleasant RD Pittsburgh, PA 15214           N   \n",
       "3         300 Block Wood ST Pittsburgh, PA 15222           Y   \n",
       "4  500 Block Mt Pleasant RD Pittsburgh, PA 15214           N   \n",
       "\n",
       "          INCIDENTNEIGHBORHOOD INCIDENTZONE  \\\n",
       "0                  North Shore            1   \n",
       "1          Upper Lawrenceville            2   \n",
       "2            Northview Heights            1   \n",
       "3  Golden Triangle/Civic Arena            2   \n",
       "4            Northview Heights            1   \n",
       "\n",
       "                      INCIDENTHIERARCHYDESC  \\\n",
       "0            HARRASSMENT/THREAT/ATTEMPT/PHY   \n",
       "1                        THEFT BY DECEPTION   \n",
       "2   DISCHARGE OF FIREARM INTO OCC.STRUCTURE   \n",
       "3            HARRASSMENT/THREAT/ATTEMPT/PHY   \n",
       "4  PROP MISSILE INTO OCC VEHICLE/OR ROADWAY   \n",
       "\n",
       "                                            OFFENSES  INCIDENTTRACT  \\\n",
       "0  2702 Aggravated Assault. / 2709(a) Harassment....         2205.0   \n",
       "1                           3922 Theft by Deception.         1011.0   \n",
       "2  2707.1 Discharge of a Firearm into Occupied St...         2609.0   \n",
       "3        2709(a)(3) Harassment No Legitimate Purpose          201.0   \n",
       "4  2705 Recklessy Endangering Another Person. / 3...         2609.0   \n",
       "\n",
       "   COUNCIL_DISTRICT  PUBLIC_WORKS_DIVISION          X          Y  \n",
       "0               1.0                    6.0 -80.012337  40.446263  \n",
       "1               7.0                    2.0 -79.950295  40.482290  \n",
       "2               1.0                    1.0 -80.000966  40.478651  \n",
       "3               6.0                    6.0 -80.001251  40.438918  \n",
       "4               1.0                    1.0 -80.000966  40.478651  "
      ]
     },
     "execution_count": 7,
     "metadata": {},
     "output_type": "execute_result"
    }
   ],
   "source": [
    "import pandas as pd\n",
    "import numpy as np\n",
    "\n",
    "data = pd.read_csv(\"ctf16_crime_data.csv\")\n",
    "data.head()"
   ]
  },
  {
   "cell_type": "markdown",
   "id": "pediatric-marina",
   "metadata": {},
   "source": [
    "Below, I will analyze this data and put together a list of the top 10 safest neighborhoods in Pittsburgh based on these crime statistics. "
   ]
  },
  {
   "cell_type": "code",
   "execution_count": 8,
   "id": "suburban-defense",
   "metadata": {},
   "outputs": [
    {
     "data": {
      "text/plain": [
       "0                         North Shore\n",
       "1                 Upper Lawrenceville\n",
       "2                   Northview Heights\n",
       "3         Golden Triangle/Civic Arena\n",
       "4                   Northview Heights\n",
       "                     ...             \n",
       "239500                       Sheraden\n",
       "239501                      Brookline\n",
       "239502                    South Shore\n",
       "239503              Northview Heights\n",
       "239504                      Allentown\n",
       "Name: INCIDENTNEIGHBORHOOD, Length: 239505, dtype: object"
      ]
     },
     "execution_count": 8,
     "metadata": {},
     "output_type": "execute_result"
    }
   ],
   "source": [
    "data['INCIDENTNEIGHBORHOOD']"
   ]
  },
  {
   "cell_type": "code",
   "execution_count": 22,
   "id": "intense-judgment",
   "metadata": {},
   "outputs": [
    {
     "data": {
      "text/plain": [
       "South Side Flats               13972\n",
       "Central Business District      12146\n",
       "Carrick                         8455\n",
       "Bloomfield                      6563\n",
       "Shadyside                       6249\n",
       "East Liberty                    5658\n",
       "Squirrel Hill South             5436\n",
       "Homewood South                  5359\n",
       "Mount Washington                5228\n",
       "Brookline                       5226\n",
       "Lincoln-Lemington-Belmar        4831\n",
       "Knoxville                       4713\n",
       "Homewood North                  4537\n",
       "Brighton Heights                4526\n",
       "Golden Triangle/Civic Arena     4278\n",
       "Name: INCIDENTNEIGHBORHOOD, dtype: int64"
      ]
     },
     "execution_count": 22,
     "metadata": {},
     "output_type": "execute_result"
    }
   ],
   "source": [
    "sorted_data = data['INCIDENTNEIGHBORHOOD'].value_counts()\n",
    "sorted_data.head(15)"
   ]
  },
  {
   "cell_type": "markdown",
   "id": "injured-benchmark",
   "metadata": {},
   "source": [
    "## Least safe neighborhoods ##\n",
    "Based on this data, the 3 neighborhoods with the most UCR (Uniform Crime Reporting) reports are South Side Flats, the Central Business District and Carrick. \n",
    "1. **South Side Flats** - 13972\n",
    "* This neighborhood sits on the south bank of the Monongahela River, almost directly south of the University of           Pittsburgh. It includes landmarks such as the Color Park and walking trails along the river. The neighborhood is also     centered around E Carson St, which has over 40 bars and pubs; this could be a contributing factor to high crime           reports. \n",
    "\n",
    "2. **Central Business District (aka Downtown)** - 12146\n",
    "* Downtown sits between the Monongahela and Allegheny Rivers. Home to bars, skyscrapers, malls, good food and sports arenas, it is unsurprising that the business center of a historically industrial city is also home to high crime rates. This could also be due simply to the huge amount of traffic, both vehicular and pedestrian, that the neighborhood attracts; more people will eventually lead to more crime. Downtown is often colloquially referred to as The Golden Triangle, which is included separately and has the 15th most UCR reports with 4278. Including this in the Central Business District's tally makes it the neighborhood with the most reports with 16,424, over 3,000 more than any other neighborhood.\n",
    "\n",
    "3. **Carrick** - 8455\n",
    "* Everything after South Side Flats and Downtown has significantly fewer crime reports——at least 3700 fewer over the last 5 years. However, Carrick reported almost 2000 more crimes than the next highest, Bloomfield. Carrick sits on the South Side of Pittsburgh. As a densely packed neighborhood in an industrial city, it makes sense that it is a crime hotspot. Based on a quick Google search for \"Carrick Pittsburgh\" that immediately turned up articles from a few days ago (4/11) about a home invasion in which two men were assaulted. "
   ]
  },
  {
   "cell_type": "markdown",
   "id": "minute-hepatitis",
   "metadata": {},
   "source": [
    "However, I want to find the *safest* neighborhoods. There are a handful of neighborhoods with fewer than 600 reports over the last 5+ years (this dataset spans from 2016-present), meaning that they generally get under 100 reports every year. The list below lists the 20 neighborhoods that have officially reported the fewest crimes since 2016. "
   ]
  },
  {
   "cell_type": "code",
   "execution_count": 24,
   "id": "middle-remove",
   "metadata": {},
   "outputs": [
    {
     "data": {
      "text/plain": [
       "Mt. Oliver Boro             72\n",
       "Mt. Oliver Neighborhood    117\n",
       "Outside County             154\n",
       "Outside State              218\n",
       "Chartiers City             222\n",
       "New Homestead              248\n",
       "Ridgemont                  248\n",
       "Troy Hill-Herrs Island     252\n",
       "Swisshelm Park             318\n",
       "East Carnegie              333\n",
       "Arlington Heights          367\n",
       "Mount Oliver               377\n",
       "Summer Hill                394\n",
       "Hays                       401\n",
       "Regent Square              408\n",
       "Oakwood                    439\n",
       "Esplen                     454\n",
       "Glen Hazel                 516\n",
       "Fairywood                  558\n",
       "St. Clair                  584\n",
       "Name: INCIDENTNEIGHBORHOOD, dtype: int64"
      ]
     },
     "execution_count": 24,
     "metadata": {},
     "output_type": "execute_result"
    }
   ],
   "source": [
    "reverse_sorted_data = data['INCIDENTNEIGHBORHOOD'].value_counts().iloc[::-1]\n",
    "reverse_sorted_data.head(20)"
   ]
  },
  {
   "cell_type": "markdown",
   "id": "isolated-bryan",
   "metadata": {},
   "source": [
    "## Safest Neighborhoods by the numbers ##\n",
    "Based on this data, the 5 safest (actual) neighborhoods are Mount Oliver, Chartiers, New Homestead, Ridgemont and Troy Hill/Herrs Island. I will only go in depth into the top 3 lowest crime neighborhoods. \n",
    "\n",
    "1. Mount Oliver - 189\n",
    "* Mount Oliver is, coincidentally, directly north of Carrick. Although the neighborhood of Mt Oliver is  distinct from Mt Oliver Borough, I am considering them as one neighborhood (that technically isn't part of the city of Pittsburgh). It is a relatively high-end residential neighborhood. According to Wikipedia, the average household size is 2.36, which indicates that its residents are largely couples or single parents, with the occasional large family or person living alone. \n",
    "\n",
    "2. Chartiers - 222\n",
    "* Chartiers is a small neighborhood in the northwest corner of Pittsburgh. With a land area of a mere 84 acres (0.132 sq. miles) and population of less than 500, the crime rate per capita is relatively high. I won't include this neighborhood on the final top 10 list I compile. \n",
    "\n",
    "3. New Homestead - 248\n",
    "* Mostly encompassing wooded areas, New homestead has a population of about 1000 residents in an area of .794 sq miles (again, I won't include this in the final list). "
   ]
  },
  {
   "cell_type": "markdown",
   "id": "disturbed-sunglasses",
   "metadata": {},
   "source": [
    "## Final List - Safest Neighborhoods ##"
   ]
  },
  {
   "cell_type": "markdown",
   "id": "greek-privilege",
   "metadata": {},
   "source": [
    "Below is the final top 10 list of the safest neighborhoods. \n",
    "  (*Keep in mind, safest is subjective here, and I included and omitted some neighborhoods based on population or other factors that I felt discounted their statistics*)"
   ]
  },
  {
   "cell_type": "markdown",
   "id": "severe-wages",
   "metadata": {},
   "source": [
    "#### 1. Mount Oliver ####\n",
    "* "
   ]
  },
  {
   "cell_type": "code",
   "execution_count": null,
   "id": "caroline-worthy",
   "metadata": {},
   "outputs": [],
   "source": []
  }
 ],
 "metadata": {
  "kernelspec": {
   "display_name": "Python 3",
   "language": "python",
   "name": "python3"
  },
  "language_info": {
   "codemirror_mode": {
    "name": "ipython",
    "version": 3
   },
   "file_extension": ".py",
   "mimetype": "text/x-python",
   "name": "python",
   "nbconvert_exporter": "python",
   "pygments_lexer": "ipython3",
   "version": "3.7.7"
  }
 },
 "nbformat": 4,
 "nbformat_minor": 5
}
