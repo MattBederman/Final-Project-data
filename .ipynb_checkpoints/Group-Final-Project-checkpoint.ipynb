{
 "cells": [
  {
   "cell_type": "markdown",
   "id": "immune-connection",
   "metadata": {},
   "source": [
    "# The Best Neighborhood in Pittsburgh #"
   ]
  },
  {
   "cell_type": "markdown",
   "id": "german-drive",
   "metadata": {},
   "source": [
    "## Calvin's Analysis ##\n",
    "\n",
    "I analyzed the crime rates in Pittsburgh neighborhoods. Based on my findings, these are the top 20 'safest' neighborhoods.\n",
    "\n",
    "#### 1. Mount Oliver ####\n",
    "\n",
    "#### 2. Chartiers ####\n",
    "\n",
    "#### 3. New Homestead ####\n",
    "\n",
    "#### 4. Ridgemont ####\n",
    "\n",
    "#### 5. Troy Hill/Herrs Island ####\n",
    "\n",
    "#### 6. Swisshelm Park ####\n",
    "\n",
    "#### 7. East Carnegie ####\n",
    "\n",
    "#### 8. Arlington Heights ####\n",
    "\n",
    "#### 9. Summer Hill ####\n",
    "\n",
    "#### 10. Hays ####\n",
    "\n",
    "#### 11. Regent Square ####\n",
    "\n",
    "#### 12. Oakwood ####\n",
    "\n",
    "#### 13. Esplen ####\n",
    "\n",
    "#### 14. Glen Hazel ####\n",
    "\n",
    "#### 15. Fairywood ###\n",
    "\n",
    "#### 16. Windgap ####\n",
    "\n",
    "#### 17. Spring Garden ####\n",
    "\n",
    "#### 18. Polish Hill ####\n",
    "\n",
    "#### 19. Duquesne Heights ####\n",
    "\n",
    "#### 20. Central Northside ####\n",
    "\n",
    "Based on my analysis, Mount Oliver is my pick for the safest neighborhood in Pittsburgh. It has only had 189 UCR reports since 2016, while having a reasonable population of about 4000 residents. Mount Oliver is located in southern Pittsburgh, almost directly south of Downtown. "
   ]
  },
  {
   "cell_type": "code",
   "execution_count": null,
   "id": "appreciated-participation",
   "metadata": {},
   "outputs": [],
   "source": []
  }
 ],
 "metadata": {
  "kernelspec": {
   "display_name": "Python 3",
   "language": "python",
   "name": "python3"
  },
  "language_info": {
   "codemirror_mode": {
    "name": "ipython",
    "version": 3
   },
   "file_extension": ".py",
   "mimetype": "text/x-python",
   "name": "python",
   "nbconvert_exporter": "python",
   "pygments_lexer": "ipython3",
   "version": "3.7.7"
  }
 },
 "nbformat": 4,
 "nbformat_minor": 5
}
