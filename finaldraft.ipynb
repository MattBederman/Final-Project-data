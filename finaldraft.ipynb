{
 "cells": [
  {
   "cell_type": "code",
   "execution_count": 9,
   "metadata": {},
   "outputs": [
    {
     "data": {
      "text/html": [
       "<div>\n",
       "<style scoped>\n",
       "    .dataframe tbody tr th:only-of-type {\n",
       "        vertical-align: middle;\n",
       "    }\n",
       "\n",
       "    .dataframe tbody tr th {\n",
       "        vertical-align: top;\n",
       "    }\n",
       "\n",
       "    .dataframe thead th {\n",
       "        text-align: right;\n",
       "    }\n",
       "</style>\n",
       "<table border=\"1\" class=\"dataframe\">\n",
       "  <thead>\n",
       "    <tr style=\"text-align: right;\">\n",
       "      <th></th>\n",
       "      <th>SR_NUM</th>\n",
       "      <th>INSPECT_ID</th>\n",
       "      <th>STREET</th>\n",
       "      <th>ADDRESS_2</th>\n",
       "      <th>APT_FLOOR</th>\n",
       "      <th>CITY</th>\n",
       "      <th>STATE</th>\n",
       "      <th>ZIP</th>\n",
       "      <th>CENSUS_TRACT</th>\n",
       "      <th>REQUEST_TYPE</th>\n",
       "      <th>PROPERTY_TYPE</th>\n",
       "      <th>NUM_UNITS</th>\n",
       "      <th>EMERGENCY_TYPE</th>\n",
       "      <th>INSPECTOR_ID</th>\n",
       "    </tr>\n",
       "  </thead>\n",
       "  <tbody>\n",
       "    <tr>\n",
       "      <th>0</th>\n",
       "      <td>HCE-20121221-7879</td>\n",
       "      <td>114434</td>\n",
       "      <td>442  WILLIAM STREET</td>\n",
       "      <td>AKA 441 HAYS AVE.</td>\n",
       "      <td>#1</td>\n",
       "      <td>MOUNT OLIVER</td>\n",
       "      <td>PA</td>\n",
       "      <td>15210.0</td>\n",
       "      <td>54810.0</td>\n",
       "      <td>Complaint Housing</td>\n",
       "      <td>MULTI FAMILY</td>\n",
       "      <td>2.0</td>\n",
       "      <td>NON EMERGENCY</td>\n",
       "      <td>18</td>\n",
       "    </tr>\n",
       "    <tr>\n",
       "      <th>1</th>\n",
       "      <td>HCE-20130206-2739</td>\n",
       "      <td>114441</td>\n",
       "      <td>918  GERRITT STREET</td>\n",
       "      <td>NaN</td>\n",
       "      <td>NaN</td>\n",
       "      <td>PITTSBURGH</td>\n",
       "      <td>PA</td>\n",
       "      <td>15208.0</td>\n",
       "      <td>31207.0</td>\n",
       "      <td>Community Environment</td>\n",
       "      <td>SINGLE FAMILY</td>\n",
       "      <td>1.0</td>\n",
       "      <td>NON EMERGENCY</td>\n",
       "      <td>88</td>\n",
       "    </tr>\n",
       "    <tr>\n",
       "      <th>2</th>\n",
       "      <td>HCE-20130226-2887</td>\n",
       "      <td>114442</td>\n",
       "      <td>809  8TH STREET</td>\n",
       "      <td>NaN</td>\n",
       "      <td>NaN</td>\n",
       "      <td>STOWE TOWNSHIP</td>\n",
       "      <td>PA</td>\n",
       "      <td>15136.0</td>\n",
       "      <td>54626.0</td>\n",
       "      <td>Community Environment</td>\n",
       "      <td>MULTI FAMILY</td>\n",
       "      <td>3.0</td>\n",
       "      <td>NON EMERGENCY</td>\n",
       "      <td>88</td>\n",
       "    </tr>\n",
       "    <tr>\n",
       "      <th>3</th>\n",
       "      <td>HCE-20130226-2881</td>\n",
       "      <td>114443</td>\n",
       "      <td>801  8TH STREET</td>\n",
       "      <td>NaN</td>\n",
       "      <td>NaN</td>\n",
       "      <td>STOWE TOWNSHIP</td>\n",
       "      <td>PA</td>\n",
       "      <td>15136.0</td>\n",
       "      <td>54626.0</td>\n",
       "      <td>Community Environment</td>\n",
       "      <td>MULTI FAMILY</td>\n",
       "      <td>4.0</td>\n",
       "      <td>NON EMERGENCY</td>\n",
       "      <td>88</td>\n",
       "    </tr>\n",
       "    <tr>\n",
       "      <th>4</th>\n",
       "      <td>HCE-20130329-3145</td>\n",
       "      <td>114445</td>\n",
       "      <td>145  VICTORIA DRIVE</td>\n",
       "      <td>NaN</td>\n",
       "      <td>NaN</td>\n",
       "      <td>BRENTWOOD</td>\n",
       "      <td>PA</td>\n",
       "      <td>15227.0</td>\n",
       "      <td>54781.0</td>\n",
       "      <td>Complaint Housing</td>\n",
       "      <td>MULTI FAMILY</td>\n",
       "      <td>4.0</td>\n",
       "      <td>NON EMERGENCY</td>\n",
       "      <td>46</td>\n",
       "    </tr>\n",
       "  </tbody>\n",
       "</table>\n",
       "</div>"
      ],
      "text/plain": [
       "              SR_NUM  INSPECT_ID                STREET          ADDRESS_2  \\\n",
       "0  HCE-20121221-7879      114434  442  WILLIAM STREET   AKA 441 HAYS AVE.   \n",
       "1  HCE-20130206-2739      114441  918  GERRITT STREET                 NaN   \n",
       "2  HCE-20130226-2887      114442      809  8TH STREET                 NaN   \n",
       "3  HCE-20130226-2881      114443      801  8TH STREET                 NaN   \n",
       "4  HCE-20130329-3145      114445  145  VICTORIA DRIVE                 NaN   \n",
       "\n",
       "  APT_FLOOR            CITY STATE      ZIP  CENSUS_TRACT  \\\n",
       "0        #1    MOUNT OLIVER    PA  15210.0       54810.0   \n",
       "1       NaN      PITTSBURGH    PA  15208.0       31207.0   \n",
       "2       NaN  STOWE TOWNSHIP    PA  15136.0       54626.0   \n",
       "3       NaN  STOWE TOWNSHIP    PA  15136.0       54626.0   \n",
       "4       NaN       BRENTWOOD    PA  15227.0       54781.0   \n",
       "\n",
       "            REQUEST_TYPE  PROPERTY_TYPE  NUM_UNITS EMERGENCY_TYPE  \\\n",
       "0      Complaint Housing   MULTI FAMILY        2.0  NON EMERGENCY   \n",
       "1  Community Environment  SINGLE FAMILY        1.0  NON EMERGENCY   \n",
       "2  Community Environment   MULTI FAMILY        3.0  NON EMERGENCY   \n",
       "3  Community Environment   MULTI FAMILY        4.0  NON EMERGENCY   \n",
       "4      Complaint Housing   MULTI FAMILY        4.0  NON EMERGENCY   \n",
       "\n",
       "   INSPECTOR_ID  \n",
       "0            18  \n",
       "1            88  \n",
       "2            88  \n",
       "3            88  \n",
       "4            46  "
      ]
     },
     "execution_count": 9,
     "metadata": {},
     "output_type": "execute_result"
    }
   ],
   "source": [
    "import pandas as pd\n",
    "import numpy as np\n",
    "import matplotlib.pyplot as plt\n",
    "\n",
    "\n",
    "service = pd.read_csv(\"service request.tsv\", sep=\"\\t\")\n",
    "service.head()"
   ]
  },
  {
   "cell_type": "code",
   "execution_count": 10,
   "metadata": {},
   "outputs": [
    {
     "data": {
      "text/plain": [
       "0            Complaint Housing\n",
       "1        Community Environment\n",
       "2        Community Environment\n",
       "3        Community Environment\n",
       "4            Complaint Housing\n",
       "                 ...          \n",
       "24504    Community Environment\n",
       "24505    Community Environment\n",
       "24506        Complaint Housing\n",
       "24507        Complaint Housing\n",
       "24508        Complaint Housing\n",
       "Name: REQUEST_TYPE, Length: 24509, dtype: object"
      ]
     },
     "execution_count": 10,
     "metadata": {},
     "output_type": "execute_result"
    }
   ],
   "source": [
    "service['REQUEST_TYPE']"
   ]
  },
  {
   "cell_type": "markdown",
   "metadata": {},
   "source": [
    "The Data above describes the types of Service Request for the 24508 people who inputted their info."
   ]
  },
  {
   "cell_type": "code",
   "execution_count": 7,
   "metadata": {},
   "outputs": [
    {
     "data": {
      "text/plain": [
       "Complaint Housing            12891\n",
       "Community Environment        10184\n",
       "West Nile                     1384\n",
       "Rodent                          44\n",
       "Community Environment (8)        5\n",
       "Other Vector                     1\n",
       "Name: REQUEST_TYPE, dtype: int64"
      ]
     },
     "execution_count": 7,
     "metadata": {},
     "output_type": "execute_result"
    }
   ],
   "source": [
    "service = service['REQUEST_TYPE'].value_counts()\n",
    "service.head(15)"
   ]
  },
  {
   "cell_type": "markdown",
   "metadata": {},
   "source": [
    "The Data above shows the service request that were called for the most from largest to smallest"
   ]
  },
  {
   "cell_type": "code",
   "execution_count": 16,
   "metadata": {},
   "outputs": [
    {
     "data": {
      "text/plain": [
       "Other Vector                     1\n",
       "Community Environment (8)        5\n",
       "Rodent                          44\n",
       "West Nile                     1384\n",
       "Community Environment        10184\n",
       "Complaint Housing            12891\n",
       "Name: REQUEST_TYPE, dtype: int64"
      ]
     },
     "execution_count": 16,
     "metadata": {},
     "output_type": "execute_result"
    }
   ],
   "source": [
    "service = service['REQUEST_TYPE'].value_counts().iloc[::-1]\n",
    "service.head(25)"
   ]
  },
  {
   "cell_type": "markdown",
   "metadata": {},
   "source": [
    "The data above starts from smallest to biggest with the amount of service requests that were called."
   ]
  },
  {
   "cell_type": "markdown",
   "metadata": {},
   "source": [
    "FINAL THOUGHTS\n",
    "In summary the data summarizes the issue and request in certain neighborhoods. This data also shows the most common problemn with housing complaints and the environment and how the neighboorhood needs to be improved."
   ]
  }
 ],
 "metadata": {
  "kernelspec": {
   "display_name": "Python 3",
   "language": "python",
   "name": "python3"
  },
  "language_info": {
   "codemirror_mode": {
    "name": "ipython",
    "version": 3
   },
   "file_extension": ".py",
   "mimetype": "text/x-python",
   "name": "python",
   "nbconvert_exporter": "python",
   "pygments_lexer": "ipython3",
   "version": "3.8.5"
  }
 },
 "nbformat": 4,
 "nbformat_minor": 4
}
